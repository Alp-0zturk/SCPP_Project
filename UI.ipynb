{
 "cells": [
  {
   "cell_type": "markdown",
   "metadata": {},
   "source": [
    "### This is the UI section of the SCPP project. "
   ]
  },
  {
   "cell_type": "markdown",
   "metadata": {},
   "source": [
    "##### Load necessary libraries"
   ]
  },
  {
   "cell_type": "code",
   "execution_count": 2,
   "metadata": {},
   "outputs": [],
   "source": [
    "import tkinter as tk"
   ]
  },
  {
   "cell_type": "markdown",
   "metadata": {},
   "source": [
    "#### Create interface"
   ]
  },
  {
   "cell_type": "code",
   "execution_count": 4,
   "metadata": {},
   "outputs": [],
   "source": [
    "class App:\n",
    "    def __init__(self, root):\n",
    "        self.root = root\n",
    "        self.root.title(\"Secondhand Car Price Prediction Software\")\n",
    "        self.entries = []\n",
    "        for i in range(10):\n",
    "            entry = tk.Entry(root)\n",
    "            entry.pack(fill=tk.BOTH, expand=True, padx=10, pady=5)\n",
    "            self.entries.append(entry)\n",
    "\n",
    "        # Add expand button\n",
    "        expand_button = tk.Button(root, text=\"Calculate\", command=self.expand)\n",
    "        expand_button.pack(pady=10)\n",
    "\n",
    "    def expand(self):\n",
    "        entry = tk.Entry(self.root)\n",
    "        entry.pack(fill=tk.BOTH, expand=True, padx=10, pady=5)\n",
    "        self.entries.append(entry)\n",
    "\n",
    "if __name__ == \"__main__\":\n",
    "    root = tk.Tk()\n",
    "    app = App(root)\n",
    "    root.mainloop()\n"
   ]
  }
 ],
 "metadata": {
  "kernelspec": {
   "display_name": "base",
   "language": "python",
   "name": "python3"
  },
  "language_info": {
   "codemirror_mode": {
    "name": "ipython",
    "version": 3
   },
   "file_extension": ".py",
   "mimetype": "text/x-python",
   "name": "python",
   "nbconvert_exporter": "python",
   "pygments_lexer": "ipython3",
   "version": "3.11.4"
  }
 },
 "nbformat": 4,
 "nbformat_minor": 2
}
