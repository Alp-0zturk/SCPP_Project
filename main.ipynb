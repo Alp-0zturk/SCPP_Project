{
 "cells": [
  {
   "cell_type": "markdown",
   "metadata": {},
   "source": [
    "### 1.0 -Load libraries\n",
    "In our Second Hand Car Price Prediction project we used SXBoost, mada score"
   ]
  },
  {
   "cell_type": "code",
   "execution_count": 47,
   "metadata": {},
   "outputs": [],
   "source": [
    "import numpy as np # linear algebra\n",
    "import pandas as pd # data processing\n",
    "import matplotlib.pyplot as plt # library for visualization\n",
    "import seaborn as sns # library for visualization\n",
    "import warnings\n",
    "import os\n",
    "import csv \n",
    "from sklearn.model_selection import train_test_split\n",
    "from sklearn.preprocessing import LabelEncoder\n",
    "from sklearn import preprocessing\n",
    "\n",
    "warnings.filterwarnings('ignore')\n",
    "sns.set_palette('Spectral')\n",
    "sns.set_context('notebook', font_scale=1)\n",
    "sns.set_style('whitegrid')\n",
    "# set pandas 3 digits decimal\n",
    "pd.set_option('display.float_format', '{:.3f}'.format)"
   ]
  },
  {
   "cell_type": "markdown",
   "metadata": {},
   "source": [
    "<p> Note to self: <br>\n",
    "1- Load the initial data, clean car data that can cause false calculations. + <br>\n",
    "2- Edit all the data into ML friendly numerical values. <--- <br>\n",
    "3- Fill, complete missing values <br>\n",
    "4- Try the ML algorithms: KNN, XGBoost, min-max norm, <br>\n",
    "5- Start building the web app\n",
    "</p>"
   ]
  },
  {
   "cell_type": "markdown",
   "metadata": {},
   "source": [
    "<h4> 1.1 Load the available data </h4>"
   ]
  },
  {
   "cell_type": "code",
   "execution_count": 48,
   "metadata": {},
   "outputs": [
    {
     "name": "stdout",
     "output_type": "stream",
     "text": [
      "   year manufacturer            model   condition cylinders fuel  odometer  \\\n",
      "0 0.009         ford         m-deluxe   excellent         6  gas     0.002   \n",
      "1 0.009    chevrolet   'm-3100 truck'        good         6  gas     0.003   \n",
      "2 0.009         ford          m-sedan        good         8  gas     0.005   \n",
      "3 0.009    chevrolet  'm-sport coupe'   excellent         8  gas     0.001   \n",
      "4 0.009    chevrolet  'm-sport coupe'  'like new'         8  gas     0.001   \n",
      "\n",
      "  title_status transmission drive       size   type paint_color  price  \n",
      "0        clean       manual   rwd  full-size  sedan       black   9500  \n",
      "1        clean       manual   rwd  full-size  truck       green  16000  \n",
      "2        clean       manual   fwd   mid-size  sedan       green  18000  \n",
      "3        clean    automatic   rwd   mid-size  coupe      yellow  22000  \n",
      "4        clean    automatic   rwd   mid-size  coupe      yellow  22000  \n",
      "\n",
      "Index(['year', 'manufacturer', 'model', 'condition', 'cylinders', 'fuel',\n",
      "       'odometer', 'title_status', 'transmission', 'drive', 'size', 'type',\n",
      "       'paint_color', 'price'],\n",
      "      dtype='object')\n"
     ]
    }
   ],
   "source": [
    "dir = 'vehicles-random-subset-ThisOne-minMaxNorm.csv'\n",
    "with open(dir, mode='r') as file:\n",
    "    csv_reader = csv.reader(file)\n",
    "    next(csv_reader, None)\n",
    "    \n",
    "# print first 5 recording of data\n",
    "df=pd.read_csv(dir)\n",
    "df.columns = df.columns.str.lower()  # Convert all column names to lowercase\n",
    "print(df.head(5))\n",
    "print()\n",
    "print(df.columns)\n"
   ]
  },
  {
   "cell_type": "markdown",
   "metadata": {},
   "source": [
    "#### 1.2 Scrape data from internet and append the data to available data"
   ]
  },
  {
   "cell_type": "markdown",
   "metadata": {},
   "source": [
    "This is done to increase amount of data and to increase coherence."
   ]
  },
  {
   "cell_type": "code",
   "execution_count": 49,
   "metadata": {},
   "outputs": [],
   "source": [
    "#get further data, clean it and then append to the vehicles-random-subset.csv\n",
    "# ATTRIBUTES ARE:\n",
    "#['year','manufacturer','model','condition','cylinders','fuel','odometer','title_status','transmission','drive','size','type','paint_color','price']"
   ]
  },
  {
   "cell_type": "markdown",
   "metadata": {},
   "source": [
    "### Conversion of categorical data into numerical data"
   ]
  },
  {
   "cell_type": "code",
   "execution_count": 50,
   "metadata": {},
   "outputs": [
    {
     "name": "stdout",
     "output_type": "stream",
     "text": [
      "   year  odometer drive  price  manufacturer_alfa-romeo  \\\n",
      "0 0.009     0.002   rwd   9500                    False   \n",
      "1 0.009     0.003   rwd  16000                    False   \n",
      "2 0.009     0.005   fwd  18000                    False   \n",
      "3 0.009     0.001   rwd  22000                    False   \n",
      "4 0.009     0.001   rwd  22000                    False   \n",
      "\n",
      "   manufacturer_aston-martin  manufacturer_audi  manufacturer_bmw  \\\n",
      "0                      False              False             False   \n",
      "1                      False              False             False   \n",
      "2                      False              False             False   \n",
      "3                      False              False             False   \n",
      "4                      False              False             False   \n",
      "\n",
      "   manufacturer_buick  manufacturer_cadillac  ...  paint_color_brown  \\\n",
      "0               False                  False  ...              False   \n",
      "1               False                  False  ...              False   \n",
      "2               False                  False  ...              False   \n",
      "3               False                  False  ...              False   \n",
      "4               False                  False  ...              False   \n",
      "\n",
      "   paint_color_custom  paint_color_green  paint_color_grey  \\\n",
      "0               False              False             False   \n",
      "1               False               True             False   \n",
      "2               False               True             False   \n",
      "3               False              False             False   \n",
      "4               False              False             False   \n",
      "\n",
      "   paint_color_orange  paint_color_purple  paint_color_red  \\\n",
      "0               False               False            False   \n",
      "1               False               False            False   \n",
      "2               False               False            False   \n",
      "3               False               False            False   \n",
      "4               False               False            False   \n",
      "\n",
      "   paint_color_silver  paint_color_white  paint_color_yellow  \n",
      "0               False              False               False  \n",
      "1               False              False               False  \n",
      "2               False              False               False  \n",
      "3               False              False                True  \n",
      "4               False              False                True  \n",
      "\n",
      "[5 rows x 4472 columns]\n"
     ]
    }
   ],
   "source": [
    "# Columns to encode\n",
    "columns_to_encode = ['manufacturer', 'model', 'condition','cylinders', 'fuel', 'title_status','transmission', 'size', 'type','paint_color']\n",
    "\n",
    "# One-hot encode the specified columns\n",
    "df_encoded = pd.get_dummies(df, columns=columns_to_encode, drop_first=True)\n",
    "# Display the transformed DataFrame\n",
    "print(df_encoded.head(5))\n",
    "\n"
   ]
  },
  {
   "cell_type": "markdown",
   "metadata": {},
   "source": [
    "## HANDLING MISSING VALUES"
   ]
  },
  {
   "cell_type": "code",
   "execution_count": 51,
   "metadata": {},
   "outputs": [
    {
     "name": "stdout",
     "output_type": "stream",
     "text": [
      "Skewness: 39.197325787865374\n"
     ]
    },
    {
     "data": {
      "image/png": "[encoded data removed]",
      "text/plain": [
       "<Figure size 640x480 with 1 Axes>"
      ]
     },
     "metadata": {},
     "output_type": "display_data"
    },
    {
     "name": "stdout",
     "output_type": "stream",
     "text": [
      "year       -2.452\n",
      "odometer   39.197\n",
      "price       2.333\n",
      "dtype: float64\n"
     ]
    }
   ],
   "source": [
    "import matplotlib.pyplot as plt\n",
    "skewness = df['odometer'].skew()\n",
    "print(f\"Skewness: {skewness}\")\n",
    "df['odometer'].plot(kind='line')\n",
    "plt.title('line graph of odometer')\n",
    "plt.xlabel('odometer value')\n",
    "plt.ylabel('variance')\n",
    "plt.show()\n",
    "df['odometer'] = df['odometer'].fillna(df['odometer'].median()) # HANDLING FOR SKEWED DATA\n",
    "numerical_cols = df.select_dtypes(include=['float64', 'int64']).columns\n",
    "print(df[numerical_cols].skew())\n",
    "\n",
    "df['year'] = df['year'].fillna(df['year'].mean()) # HANDLING FOR SYMMETRIC DATA"
   ]
  },
  {
   "cell_type": "markdown",
   "metadata": {},
   "source": [
    "<h4> FILLING MISSING VALUES FOR CATEGORICAL DATA </h4>"
   ]
  },
  {
   "cell_type": "code",
   "execution_count": 52,
   "metadata": {},
   "outputs": [
    {
     "name": "stdout",
     "output_type": "stream",
     "text": [
      "Processed data saved to 'filled_data.csv'.\n"
     ]
    }
   ],
   "source": [
    "import pandas as pd\n",
    "import numpy as np\n",
    "from sklearn.impute import KNNImputer\n",
    "from sklearn.preprocessing import LabelEncoder\n",
    "# Columns to handle\n",
    "categorical_columns = ['cylinders', 'fuel', 'transmission', 'type']\n",
    "numerical_columns = ['year', 'odometer']  # Numerical columns\n",
    "\n",
    "# Step 1: Replace \"other\" in categorical columns with the mode\n",
    "for col in categorical_columns:\n",
    "    mode_value = df[col].mode()[0]  # Find the mode\n",
    "    df[col] = df[col].replace('other', mode_value)\n",
    "\n",
    "# Step 2: Fill missing values in numerical columns with the median\n",
    "for col in numerical_columns:\n",
    "    median_value = df[col].median()\n",
    "    df[col].fillna(median_value, inplace=True)\n",
    "\n",
    "# Step 3: Encode categorical columns for KNNImputer\n",
    "label_encoders = {}\n",
    "for col in categorical_columns:\n",
    "    label_encoders[col] = LabelEncoder()\n",
    "    df[col] = label_encoders[col].fit_transform(df[col].astype(str))\n",
    "\n",
    "# Step 4: Apply KNNImputer for further imputation\n",
    "imputer = KNNImputer(n_neighbors=5)\n",
    "columns_to_impute = numerical_columns + categorical_columns\n",
    "df[columns_to_impute] = imputer.fit_transform(df[columns_to_impute])\n",
    "\n",
    "# Step 5: Decode categorical columns back to original labels\n",
    "for col in categorical_columns:\n",
    "    df[col] = label_encoders[col].inverse_transform(df[col].round().astype(int))\n",
    "\n",
    "# Step 6: Save the processed DataFrame to a new CSV file\n",
    "df.to_csv('filled_data.csv', index=False)\n",
    "\n",
    "# Check the output\n",
    "print(\"Processed data saved to 'filled_data.csv'.\")\n",
    "\n"
   ]
  },
  {
   "cell_type": "markdown",
   "metadata": {},
   "source": [
    "### 3.0 Reducing Dimensions"
   ]
  },
  {
   "cell_type": "code",
   "execution_count": 54,
   "metadata": {},
   "outputs": [
    {
     "name": "stdout",
     "output_type": "stream",
     "text": [
      "Explained variance by each component: [0.14365219 0.12088699 0.10897427 0.09450916 0.09167112 0.08786322\n",
      " 0.08616263 0.08221784 0.07709623 0.05819671]\n",
      "Cumulative explained variance: [0.14365219 0.26453918 0.37351345 0.46802261 0.55969373 0.64755696\n",
      " 0.73371958 0.81593742 0.89303365 0.95123036]\n",
      "PCA-transformed data saved to 'pca_transformed_data.csv'.\n"
     ]
    }
   ],
   "source": [
    "import pandas as pd\n",
    "from sklearn.decomposition import PCA\n",
    "from sklearn.preprocessing import StandardScaler\n",
    "\n",
    "# Load the dataset (replace with your dataset)\n",
    "# df = pd.read_csv('filled_data.csv')\n",
    "\n",
    "# Define features for PCA (exclude non-numeric or categorical columns if needed)\n",
    "numerical_columns = ['year', 'odometer']  # Example numerical columns\n",
    "categorical_columns = ['cylinders', 'fuel', 'model', 'condition', 'transmission', 'drive', 'title_status', 'size', 'type']\n",
    "\n",
    "# Ensure categorical columns are numeric (if not already encoded)\n",
    "for col in categorical_columns:\n",
    "    df[col] = pd.Categorical(df[col]).codes\n",
    "\n",
    "# Combine numerical and encoded categorical columns\n",
    "features = numerical_columns + categorical_columns\n",
    "\n",
    "# Standardize the data\n",
    "scaler = StandardScaler()\n",
    "df_scaled = scaler.fit_transform(df[features])\n",
    "\n",
    "# Apply PCA\n",
    "pca = PCA(n_components=0.95)  # Retain 95% of the variance\n",
    "df_pca = pca.fit_transform(df_scaled)\n",
    "\n",
    "# Create a DataFrame with the PCA components\n",
    "pca_columns = [f'PC{i+1}' for i in range(df_pca.shape[1])]\n",
    "df_pca = pd.DataFrame(df_pca, columns=pca_columns)\n",
    "\n",
    "# Save the transformed data to a CSV file\n",
    "df_pca.to_csv('pca_transformed_data.csv', index=False)\n",
    "\n",
    "# Check explained variance\n",
    "print(\"Explained variance by each component:\", pca.explained_variance_ratio_)\n",
    "print(\"Cumulative explained variance:\", pca.explained_variance_ratio_.cumsum())\n",
    "print(f\"PCA-transformed data saved to 'pca_transformed_data.csv'.\")\n"
   ]
  },
  {
   "cell_type": "markdown",
   "metadata": {},
   "source": [
    "### 2.0 Train/Test splitting"
   ]
  },
  {
   "cell_type": "markdown",
   "metadata": {},
   "source": [
    "All the collected data needs to be split to test, train. We will split 20/80 = test/train"
   ]
  },
  {
   "cell_type": "code",
   "execution_count": 57,
   "metadata": {},
   "outputs": [
    {
     "ename": "ValueError",
     "evalue": "Found input variables with inconsistent numbers of samples: [18775, 5]",
     "output_type": "error",
     "traceback": [
      "\u001b[0;31m---------------------------------------------------------------------------\u001b[0m",
      "\u001b[0;31mValueError\u001b[0m                                Traceback (most recent call last)",
      "Cell \u001b[0;32mIn[57], line 17\u001b[0m\n\u001b[1;32m     14\u001b[0m y \u001b[38;5;241m=\u001b[39m target  \u001b[38;5;66;03m# Target column\u001b[39;00m\n\u001b[1;32m     16\u001b[0m \u001b[38;5;66;03m# Split into training and testing sets\u001b[39;00m\n\u001b[0;32m---> 17\u001b[0m X_train, X_test, y_train, y_test \u001b[38;5;241m=\u001b[39m \u001b[43mtrain_test_split\u001b[49m\u001b[43m(\u001b[49m\u001b[43mX\u001b[49m\u001b[43m,\u001b[49m\u001b[43m \u001b[49m\u001b[43my\u001b[49m\u001b[43m,\u001b[49m\u001b[43m \u001b[49m\u001b[43mtest_size\u001b[49m\u001b[38;5;241;43m=\u001b[39;49m\u001b[38;5;241;43m0.2\u001b[39;49m\u001b[43m,\u001b[49m\u001b[43m \u001b[49m\u001b[43mrandom_state\u001b[49m\u001b[38;5;241;43m=\u001b[39;49m\u001b[38;5;241;43m42\u001b[39;49m\u001b[43m)\u001b[49m\n\u001b[1;32m     19\u001b[0m \u001b[38;5;66;03m# Train a machine learning model (Random Forest in this example)\u001b[39;00m\n\u001b[1;32m     20\u001b[0m model \u001b[38;5;241m=\u001b[39m RandomForestClassifier(random_state\u001b[38;5;241m=\u001b[39m\u001b[38;5;241m42\u001b[39m)\n",
      "File \u001b[0;32m~/Desktop/SCarPP/.venv/lib/python3.13/site-packages/sklearn/utils/_param_validation.py:213\u001b[0m, in \u001b[0;36mvalidate_params.<locals>.decorator.<locals>.wrapper\u001b[0;34m(*args, **kwargs)\u001b[0m\n\u001b[1;32m    207\u001b[0m \u001b[38;5;28;01mtry\u001b[39;00m:\n\u001b[1;32m    208\u001b[0m     \u001b[38;5;28;01mwith\u001b[39;00m config_context(\n\u001b[1;32m    209\u001b[0m         skip_parameter_validation\u001b[38;5;241m=\u001b[39m(\n\u001b[1;32m    210\u001b[0m             prefer_skip_nested_validation \u001b[38;5;129;01mor\u001b[39;00m global_skip_validation\n\u001b[1;32m    211\u001b[0m         )\n\u001b[1;32m    212\u001b[0m     ):\n\u001b[0;32m--> 213\u001b[0m         \u001b[38;5;28;01mreturn\u001b[39;00m \u001b[43mfunc\u001b[49m\u001b[43m(\u001b[49m\u001b[38;5;241;43m*\u001b[39;49m\u001b[43margs\u001b[49m\u001b[43m,\u001b[49m\u001b[43m \u001b[49m\u001b[38;5;241;43m*\u001b[39;49m\u001b[38;5;241;43m*\u001b[39;49m\u001b[43mkwargs\u001b[49m\u001b[43m)\u001b[49m\n\u001b[1;32m    214\u001b[0m \u001b[38;5;28;01mexcept\u001b[39;00m InvalidParameterError \u001b[38;5;28;01mas\u001b[39;00m e:\n\u001b[1;32m    215\u001b[0m     \u001b[38;5;66;03m# When the function is just a wrapper around an estimator, we allow\u001b[39;00m\n\u001b[1;32m    216\u001b[0m     \u001b[38;5;66;03m# the function to delegate validation to the estimator, but we replace\u001b[39;00m\n\u001b[1;32m    217\u001b[0m     \u001b[38;5;66;03m# the name of the estimator by the name of the function in the error\u001b[39;00m\n\u001b[1;32m    218\u001b[0m     \u001b[38;5;66;03m# message to avoid confusion.\u001b[39;00m\n\u001b[1;32m    219\u001b[0m     msg \u001b[38;5;241m=\u001b[39m re\u001b[38;5;241m.\u001b[39msub(\n\u001b[1;32m    220\u001b[0m         \u001b[38;5;124mr\u001b[39m\u001b[38;5;124m\"\u001b[39m\u001b[38;5;124mparameter of \u001b[39m\u001b[38;5;124m\\\u001b[39m\u001b[38;5;124mw+ must be\u001b[39m\u001b[38;5;124m\"\u001b[39m,\n\u001b[1;32m    221\u001b[0m         \u001b[38;5;124mf\u001b[39m\u001b[38;5;124m\"\u001b[39m\u001b[38;5;124mparameter of \u001b[39m\u001b[38;5;132;01m{\u001b[39;00mfunc\u001b[38;5;241m.\u001b[39m\u001b[38;5;18m__qualname__\u001b[39m\u001b[38;5;132;01m}\u001b[39;00m\u001b[38;5;124m must be\u001b[39m\u001b[38;5;124m\"\u001b[39m,\n\u001b[1;32m    222\u001b[0m         \u001b[38;5;28mstr\u001b[39m(e),\n\u001b[1;32m    223\u001b[0m     )\n",
      "File \u001b[0;32m~/Desktop/SCarPP/.venv/lib/python3.13/site-packages/sklearn/model_selection/_split.py:2782\u001b[0m, in \u001b[0;36mtrain_test_split\u001b[0;34m(test_size, train_size, random_state, shuffle, stratify, *arrays)\u001b[0m\n\u001b[1;32m   2779\u001b[0m \u001b[38;5;28;01mif\u001b[39;00m n_arrays \u001b[38;5;241m==\u001b[39m \u001b[38;5;241m0\u001b[39m:\n\u001b[1;32m   2780\u001b[0m     \u001b[38;5;28;01mraise\u001b[39;00m \u001b[38;5;167;01mValueError\u001b[39;00m(\u001b[38;5;124m\"\u001b[39m\u001b[38;5;124mAt least one array required as input\u001b[39m\u001b[38;5;124m\"\u001b[39m)\n\u001b[0;32m-> 2782\u001b[0m arrays \u001b[38;5;241m=\u001b[39m \u001b[43mindexable\u001b[49m\u001b[43m(\u001b[49m\u001b[38;5;241;43m*\u001b[39;49m\u001b[43marrays\u001b[49m\u001b[43m)\u001b[49m\n\u001b[1;32m   2784\u001b[0m n_samples \u001b[38;5;241m=\u001b[39m _num_samples(arrays[\u001b[38;5;241m0\u001b[39m])\n\u001b[1;32m   2785\u001b[0m n_train, n_test \u001b[38;5;241m=\u001b[39m _validate_shuffle_split(\n\u001b[1;32m   2786\u001b[0m     n_samples, test_size, train_size, default_test_size\u001b[38;5;241m=\u001b[39m\u001b[38;5;241m0.25\u001b[39m\n\u001b[1;32m   2787\u001b[0m )\n",
      "File \u001b[0;32m~/Desktop/SCarPP/.venv/lib/python3.13/site-packages/sklearn/utils/validation.py:514\u001b[0m, in \u001b[0;36mindexable\u001b[0;34m(*iterables)\u001b[0m\n\u001b[1;32m    484\u001b[0m \u001b[38;5;250m\u001b[39m\u001b[38;5;124;03m\"\"\"Make arrays indexable for cross-validation.\u001b[39;00m\n\u001b[1;32m    485\u001b[0m \n\u001b[1;32m    486\u001b[0m \u001b[38;5;124;03mChecks consistent length, passes through None, and ensures that everything\u001b[39;00m\n\u001b[0;32m   (...)\u001b[0m\n\u001b[1;32m    510\u001b[0m \u001b[38;5;124;03m[[1, 2, 3], array([2, 3, 4]), None, <...Sparse...dtype 'int64'...shape (3, 1)>]\u001b[39;00m\n\u001b[1;32m    511\u001b[0m \u001b[38;5;124;03m\"\"\"\u001b[39;00m\n\u001b[1;32m    513\u001b[0m result \u001b[38;5;241m=\u001b[39m [_make_indexable(X) \u001b[38;5;28;01mfor\u001b[39;00m X \u001b[38;5;129;01min\u001b[39;00m iterables]\n\u001b[0;32m--> 514\u001b[0m \u001b[43mcheck_consistent_length\u001b[49m\u001b[43m(\u001b[49m\u001b[38;5;241;43m*\u001b[39;49m\u001b[43mresult\u001b[49m\u001b[43m)\u001b[49m\n\u001b[1;32m    515\u001b[0m \u001b[38;5;28;01mreturn\u001b[39;00m result\n",
      "File \u001b[0;32m~/Desktop/SCarPP/.venv/lib/python3.13/site-packages/sklearn/utils/validation.py:457\u001b[0m, in \u001b[0;36mcheck_consistent_length\u001b[0;34m(*arrays)\u001b[0m\n\u001b[1;32m    455\u001b[0m uniques \u001b[38;5;241m=\u001b[39m np\u001b[38;5;241m.\u001b[39munique(lengths)\n\u001b[1;32m    456\u001b[0m \u001b[38;5;28;01mif\u001b[39;00m \u001b[38;5;28mlen\u001b[39m(uniques) \u001b[38;5;241m>\u001b[39m \u001b[38;5;241m1\u001b[39m:\n\u001b[0;32m--> 457\u001b[0m     \u001b[38;5;28;01mraise\u001b[39;00m \u001b[38;5;167;01mValueError\u001b[39;00m(\n\u001b[1;32m    458\u001b[0m         \u001b[38;5;124m\"\u001b[39m\u001b[38;5;124mFound input variables with inconsistent numbers of samples: \u001b[39m\u001b[38;5;132;01m%r\u001b[39;00m\u001b[38;5;124m\"\u001b[39m\n\u001b[1;32m    459\u001b[0m         \u001b[38;5;241m%\u001b[39m [\u001b[38;5;28mint\u001b[39m(l) \u001b[38;5;28;01mfor\u001b[39;00m l \u001b[38;5;129;01min\u001b[39;00m lengths]\n\u001b[1;32m    460\u001b[0m     )\n",
      "\u001b[0;31mValueError\u001b[0m: Found input variables with inconsistent numbers of samples: [18775, 5]"
     ]
    }
   ],
   "source": [
    "import pandas as pd\n",
    "from sklearn.model_selection import train_test_split\n",
    "from sklearn.ensemble import RandomForestClassifier\n",
    "from sklearn.metrics import accuracy_score, classification_report\n",
    "\n",
    "df_pca = pd.read_csv('pca_transformed_data.csv')\n",
    "# df_target = pd.read_csv('target_column.csv')\n",
    "\n",
    "# If PCA output is already a DataFrame:\n",
    "target = 'price' # Replace 'target_column' with your target data\n",
    "\n",
    "# Split PCA-transformed data into features and target\n",
    "X = df_pca  # PCA-transformed features\n",
    "y = target  # Target column\n",
    "\n",
    "# Split into training and testing sets\n",
    "X_train, X_test, y_train, y_test = train_test_split(X, y, test_size=0.2, random_state=42)\n",
    "\n",
    "# Train a machine learning model (Random Forest in this example)\n",
    "model = RandomForestClassifier(random_state=42)\n",
    "model.fit(X_train, y_train)\n",
    "\n",
    "# Predict on the test set\n",
    "y_pred = model.predict(X_test)\n",
    "\n",
    "# Evaluate the model\n",
    "accuracy = accuracy_score(y_test, y_pred)\n",
    "print(\"Accuracy:\", accuracy)\n",
    "print(\"Classification Report:\")\n",
    "print(classification_report(y_test, y_pred))\n"
   ]
  },
  {
   "cell_type": "code",
   "execution_count": 43,
   "metadata": {},
   "outputs": [],
   "source": [
    "#features (X) and target (y)\n",
    "X = df.drop(columns='price')\n",
    "y = df['price']\n",
    "\n",
    "# Split the data into training (80%) and testing (20%) sets\n",
    "X_train, X_test, y_train, y_test = train_test_split(X, y, test_size=0.2, random_state=42)"
   ]
  },
  {
   "cell_type": "markdown",
   "metadata": {},
   "source": [
    "### XGBoost regressor"
   ]
  },
  {
   "cell_type": "code",
   "execution_count": 44,
   "metadata": {},
   "outputs": [
    {
     "data": {
      "text/plain": [
       "\"import xgboost\\nprint(xgboost.__version__)\\n# Train an XGBoost regressor model\\nxgb_model = xgboost.XGBRegressor(objective='reg:squarederror', n_estimators=100, learning_rate=0.1, max_depth=6)\\nxgb_model.fit(X_train, y_train)\""
      ]
     },
     "execution_count": 44,
     "metadata": {},
     "output_type": "execute_result"
    }
   ],
   "source": [
    "\"\"\"import xgboost\n",
    "print(xgboost.__version__)\n",
    "# Train an XGBoost regressor model\n",
    "xgb_model = xgboost.XGBRegressor(objective='reg:squarederror', n_estimators=100, learning_rate=0.1, max_depth=6)\n",
    "xgb_model.fit(X_train, y_train)\"\"\""
   ]
  }
 ],
 "metadata": {
  "kernelspec": {
   "display_name": ".venv",
   "language": "python",
   "name": "python3"
  },
  "language_info": {
   "codemirror_mode": {
    "name": "ipython",
    "version": 3
   },
   "file_extension": ".py",
   "mimetype": "text/x-python",
   "name": "python",
   "nbconvert_exporter": "python",
   "pygments_lexer": "ipython3",
   "version": "3.13.0"
  }
 },
 "nbformat": 4,
 "nbformat_minor": 2
}
